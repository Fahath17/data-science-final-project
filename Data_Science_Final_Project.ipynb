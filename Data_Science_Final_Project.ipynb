{
 "cells": [
  {
   "cell_type": "markdown",
   "id": "ef2d8f3b",
   "metadata": {},
   "source": [
    "# Data Science Final Project"
   ]
  },
  {
   "cell_type": "markdown",
   "id": "292dea5b",
   "metadata": {},
   "source": [
    "## Introduction\n",
    "\n",
    "This notebook demonstrates basic concepts of data science using markdown and code cells in JupyterLite."
   ]
  },
  {
   "cell_type": "markdown",
   "id": "3cd4432f",
   "metadata": {},
   "source": [
    "## Data Science Languages\n",
    "\n",
    "1. Python  \n",
    "2. R  \n",
    "3. SQL  \n",
    "4. Julia  \n",
    "5. Scala"
   ]
  },
  {
   "cell_type": "markdown",
   "id": "2f3acc0e",
   "metadata": {},
   "source": [
    "## Data Science Libraries\n",
    "\n",
    "1. NumPy  \n",
    "2. Pandas  \n",
    "3. Matplotlib  \n",
    "4. Scikit-learn  \n",
    "5. TensorFlow  \n",
    "6. Keras"
   ]
  },
  {
   "cell_type": "markdown",
   "id": "269a8a15",
   "metadata": {},
   "source": [
    "## Data Science Tools\n",
    "\n",
    "| Tool            | Category        | Description                       |\n",
    "|-----------------|-----------------|-----------------------------------|\n",
    "| Jupyter Notebook| IDE             | Interactive coding environment    |\n",
    "| RStudio         | IDE             | IDE for R                         |\n",
    "| Apache Spark    | Big Data Tool   | Big data processing framework     |\n",
    "| TensorFlow      | ML Library      | Deep learning framework           |\n",
    "| Tableau         | Visualization   | Interactive data visualization    |"
   ]
  },
  {
   "cell_type": "markdown",
   "id": "aaa7cc1c",
   "metadata": {},
   "source": [
    "## Arithmetic Expression Examples\n",
    "\n",
    "Below we demonstrate the use of arithmetic expressions using Python."
   ]
  },
  {
   "cell_type": "code",
   "execution_count": null,
   "id": "caabad91",
   "metadata": {},
   "outputs": [],
   "source": [
    "# Multiply and add integers\n",
    "(5 * 4) + 10"
   ]
  },
  {
   "cell_type": "code",
   "execution_count": null,
   "id": "42aac4a7",
   "metadata": {},
   "outputs": [],
   "source": [
    "# Convert 120 minutes to hours\n",
    "minutes = 120\n",
    "hours = minutes / 60\n",
    "hours"
   ]
  },
  {
   "cell_type": "markdown",
   "id": "81a7068d",
   "metadata": {},
   "source": [
    "## Objectives\n",
    "\n",
    "- Identify key data science languages  \n",
    "- List important data science libraries  \n",
    "- Demonstrate markdown and code cells  \n",
    "- Perform simple math in Python  \n",
    "- Convert data types (e.g., minutes to hours)"
   ]
  },
  {
   "cell_type": "markdown",
   "id": "7ee6203d",
   "metadata": {},
   "source": [
    "## Author\n",
    "\n",
    "**Your Full Name**"
   ]
  }
 ],
 "metadata": {},
 "nbformat": 4,
 "nbformat_minor": 5
}
